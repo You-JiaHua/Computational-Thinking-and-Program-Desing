{
  "nbformat": 4,
  "nbformat_minor": 0,
  "metadata": {
    "colab": {
      "name": "游佳樺-Week11.ipynb",
      "provenance": [],
      "authorship_tag": "ABX9TyPTRkuSM647AfgRZrDMMO6+",
      "include_colab_link": true
    },
    "kernelspec": {
      "name": "python3",
      "display_name": "Python 3"
    }
  },
  "cells": [
    {
      "cell_type": "markdown",
      "metadata": {
        "id": "view-in-github",
        "colab_type": "text"
      },
      "source": [
        "<a href=\"https://colab.research.google.com/github/You-JiaHua/Computational-Thinking-and-Program-Desing/blob/master/%E6%B8%B8%E4%BD%B3%E6%A8%BA_Week11.ipynb\" target=\"_parent\"><img src=\"https://colab.research.google.com/assets/colab-badge.svg\" alt=\"Open In Colab\"/></a>"
      ]
    },
    {
      "cell_type": "markdown",
      "metadata": {
        "id": "d4HTAieropr1"
      },
      "source": [
        "# 習題解答:報告分組"
      ]
    },
    {
      "cell_type": "code",
      "metadata": {
        "colab": {
          "base_uri": "https://localhost:8080/"
        },
        "id": "4EsfXpApo1SI",
        "outputId": "a1fe5211-8c79-4716-ce0a-3a0415c1d4e5"
      },
      "source": [
        "#  方法(一):商數\n",
        "## Input\n",
        "number = input(\"Enter your seat number?\" )\n",
        "number = int(number)\n",
        "## Process\n",
        "group = (number - 1) // 5\n",
        "## Output\n",
        "print(\"Groups is\", group)"
      ],
      "execution_count": 4,
      "outputs": [
        {
          "output_type": "stream",
          "text": [
            "Enter your seat number?19\n",
            "Groups is 3\n"
          ],
          "name": "stdout"
        }
      ]
    }
  ]
}