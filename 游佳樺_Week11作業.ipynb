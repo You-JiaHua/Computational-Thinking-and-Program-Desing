{
  "nbformat": 4,
  "nbformat_minor": 0,
  "metadata": {
    "colab": {
      "name": "游佳樺 Week11作業.ipynb",
      "provenance": [],
      "authorship_tag": "ABX9TyMRwpnrmy3lIe8xprtxw+2v",
      "include_colab_link": true
    },
    "kernelspec": {
      "name": "python3",
      "display_name": "Python 3"
    }
  },
  "cells": [
    {
      "cell_type": "markdown",
      "metadata": {
        "id": "view-in-github",
        "colab_type": "text"
      },
      "source": [
        "<a href=\"https://colab.research.google.com/github/You-JiaHua/Computational-Thinking-and-Program-Desing/blob/master/%E6%B8%B8%E4%BD%B3%E6%A8%BA_Week11%E4%BD%9C%E6%A5%AD.ipynb\" target=\"_parent\"><img src=\"https://colab.research.google.com/assets/colab-badge.svg\" alt=\"Open In Colab\"/></a>"
      ]
    },
    {
      "cell_type": "code",
      "metadata": {
        "colab": {
          "base_uri": "https://localhost:8080/"
        },
        "id": "0GHZ3iNyx_S4",
        "outputId": "a8f8b5e6-5b33-427e-e395-801b61ff0e77"
      },
      "source": [
        "print(\"哈囉,大家好。我叫Zyxo64,是一個聊天機器人\")\n",
        "hobby = \"我很喜歡美食東西,也喜歡養動物。今天很高興有機會來到世新大學,請大家多多指教。\"\n",
        "print(hobby)\n",
        "name=input(\"嗨!你好,請問大名?:\")\n",
        "print(\"我叫\",name,\"很高興認識你\")\n",
        "year = input(\"請問一下今年是西元2020年,那是民國幾年呢?\")\n",
        "print(\"對!應該沒錯,謝謝妳!\")\n",
        "myage = int(input(\"再猜猜看我今年幾歲?\"))\n",
        "print(\"哇!妳好聰明,我今年的確\",myage)\n",
        "nyears = 100 - myage\n",
        "print(\"我再\",nyears,\"年就滿100歲了。\")\n",
        "print(\"到時候是西元\",int(year) + nyears + 1911,\"年\")\n",
        "print(\"我喜歡巧克力,也喜歡嘗試各種新食物。\")\n",
        "food = input(\"你呢。你最喜歡的食物是什麼?:\")\n",
        "print(\"我也喜歡\",food)\n",
        "question = \"你多久吃一次\" + food + \"?:\"\n",
        "howoften = input(question)\n",
        "print(\"真有趣。不知道這樣對健康好不好!\")\n",
        "animal = input(\"我最喜歡的動物是長頸鹿。你呢?:\")\n",
        "print(\"我不喜歡\",animal)\n",
        "print(\"不知道\",animal,\"喜不喜歡吃\",food,\"?\")\n",
        "feeling = input(\"你今天心情如何?:\")\n",
        "print(\"告訴我你現在\",feeling,\"的原因。\")\n",
        "reason = input(\"為甚麼:\")\n",
        "print(\"我知道了。謝謝分享。\")\n",
        "print(\"今天事情真多!我累了,下次再聊。\")\n",
        "print(\"再見\",name,\"我喜歡跟你聊天!\")"
      ],
      "execution_count": 3,
      "outputs": [
        {
          "output_type": "stream",
          "text": [
            "哈囉,大家好。我叫Zyxo64,是一個聊天機器人\n",
            "我很喜歡美食東西,也喜歡養動物。今天很高興有機會來到世新大學,請大家多多指教。\n",
            "嗨!你好,請問大名?:游佳樺\n",
            "0我叫 游佳樺 很高興認識你\n",
            "請問一下今年是西元2020年,那是民國幾年呢?109\n",
            "對!應該沒錯,謝謝妳!\n",
            "再猜猜看我今年幾歲?18\n",
            "哇!妳好聰明,我今年的確 18\n",
            "我再 82 年就滿100歲了。\n",
            "到時候是西元 2102 年\n",
            "我喜歡巧克力,也喜歡嘗試各種新食物。\n",
            "你呢。你最喜歡的食物是什麼?:甜甜圈\n",
            "我也喜歡 甜甜圈\n",
            "你多久吃一次甜甜圈?:一個禮拜\n",
            "真有趣。不知道這樣對健康好不好!\n",
            "我最喜歡的動物是長頸鹿。你呢?:貓咪\n",
            "我不喜歡 貓咪\n",
            "不知道 貓咪 喜不喜歡吃 甜甜圈 ?\n",
            "你今天心情如何?:很好\n",
            "告訴我你現在 很好 的原因。\n",
            "為甚麼:好天氣\n",
            "我知道了。謝謝分享。\n",
            "今天事情真多!我累了,下次再聊。\n",
            "再見 游佳樺 我喜歡跟你聊天!\n"
          ],
          "name": "stdout"
        }
      ]
    }
  ]
}